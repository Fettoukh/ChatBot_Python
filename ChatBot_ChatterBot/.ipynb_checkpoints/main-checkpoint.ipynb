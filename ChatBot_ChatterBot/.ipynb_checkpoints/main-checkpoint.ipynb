{
 "cells": [
  {
   "cell_type": "code",
   "execution_count": 7,
   "id": "198d2312",
   "metadata": {},
   "outputs": [],
   "source": [
    "# Fettoukh Mohamed Amine\n",
    "# ChatBot using the chatterbot librarie"
   ]
  },
  {
   "cell_type": "code",
   "execution_count": 8,
   "id": "3f40ea87",
   "metadata": {},
   "outputs": [],
   "source": [
    "import os"
   ]
  },
  {
   "cell_type": "code",
   "execution_count": 9,
   "id": "7d3ec7c5",
   "metadata": {},
   "outputs": [
    {
     "data": {
      "text/plain": [
       "['bengali',\n",
       " 'chinese',\n",
       " 'english',\n",
       " 'french',\n",
       " 'german',\n",
       " 'hebrew',\n",
       " 'hindi',\n",
       " 'indonesian',\n",
       " 'italian',\n",
       " 'japanese',\n",
       " 'korean',\n",
       " 'marathi',\n",
       " 'oriya',\n",
       " 'persian',\n",
       " 'portuguese',\n",
       " 'russian',\n",
       " 'spanish',\n",
       " 'swedish',\n",
       " 'telugu',\n",
       " 'thai',\n",
       " 'traditionalchinese',\n",
       " 'turkish']"
      ]
     },
     "execution_count": 9,
     "metadata": {},
     "output_type": "execute_result"
    }
   ],
   "source": [
    "os.listdir(\"./chatterbot_corpus/data\")"
   ]
  },
  {
   "cell_type": "markdown",
   "id": "49d20e95",
   "metadata": {},
   "source": [
    "Commençons par installer la bibliothèque chatterbot. \n",
    "Pour créer un chatbot, vous devez également installer un corpus de chatterbot. Corpus - le sens littéral est une collection de mots. Celui-ci contient un corpus de données qui est inclus dans le module chatterbot. Chaque corpus n'est rien d'autre qu'un prototype de différentes déclarations d'entrée et de leurs réponses. Ces corpus sont utilisés par les robots pour s'entraîner. La méthode la plus recommandée pour installer chatterbot et chatterbot_corpus consiste à utiliser pip.\n",
    "Dans notre cas, au lieu de l'installer nous l'avons telecharger et importer dans notre notebook dans la cell précedente"
   ]
  },
  {
   "cell_type": "code",
   "execution_count": null,
   "id": "23b6f4b3",
   "metadata": {},
   "outputs": [],
   "source": [
    "!pip install chatterbot\n"
   ]
  },
  {
   "cell_type": "code",
   "execution_count": 12,
   "id": "99ee78a1",
   "metadata": {},
   "outputs": [],
   "source": [
    "from chatterbot import ChatBot\n",
    "from chatterbot.trainers import ListTrainer\n",
    "import os"
   ]
  },
  {
   "cell_type": "markdown",
   "id": "7527928e",
   "metadata": {},
   "source": [
    "Créer une instance de chatbot\n",
    "\n",
    "Maintenant, il est temps de passer à la partie la plus intéressante, à savoir nommer votre chatbot en créant un objet Chatbot. Vous pouvez choisir le nom que vous voulez. Cette seule ligne de code génère notre propre nouveau bot nommé Bot. Nous devons spécifier quelques paramètres supplémentaires avant d'exécuter notre premier programme."
   ]
  },
  {
   "cell_type": "code",
   "execution_count": 13,
   "id": "18dcf96f",
   "metadata": {},
   "outputs": [
    {
     "name": "stderr",
     "output_type": "stream",
     "text": [
      "[nltk_data] Downloading package averaged_perceptron_tagger to\n",
      "[nltk_data]     C:\\Users\\F.Amine\\AppData\\Roaming\\nltk_data...\n",
      "[nltk_data]   Package averaged_perceptron_tagger is already up-to-\n",
      "[nltk_data]       date!\n",
      "[nltk_data] Downloading package punkt to\n",
      "[nltk_data]     C:\\Users\\F.Amine\\AppData\\Roaming\\nltk_data...\n",
      "[nltk_data]   Package punkt is already up-to-date!\n",
      "[nltk_data] Downloading package stopwords to\n",
      "[nltk_data]     C:\\Users\\F.Amine\\AppData\\Roaming\\nltk_data...\n",
      "[nltk_data]   Package stopwords is already up-to-date!\n"
     ]
    }
   ],
   "source": [
    "chatbot = ChatBot('Bot')"
   ]
  },
  {
   "cell_type": "code",
   "execution_count": 14,
   "id": "6d088f9a",
   "metadata": {},
   "outputs": [],
   "source": [
    "# from chatterbot import ChatBot\n",
    "# chatbot = ChatBot(\"Ron Obvious\")\n",
    "\n",
    "# from chatterbot.trainers import ListTrainer\n",
    "\n",
    "# conversation = [\n",
    "#     \"Hello\",\n",
    "#     \"Hi there!\",\n",
    "#     \"How are you doing?\",\n",
    "#     \"I'm doing great.\",\n",
    "#     \"That is good to hear\",\n",
    "#     \"Thank you.\",\n",
    "#     \"You're welcome.\"\n",
    "# ]\n",
    "\n",
    "# trainer = ListTrainer(chatbot)\n",
    "\n",
    "# trainer.train(conversation)\n",
    "\n",
    "\n",
    "# response = chatbot.get_response(\"Hi there!\")\n",
    "# print(response)"
   ]
  },
  {
   "cell_type": "markdown",
   "id": "385a9e7f",
   "metadata": {},
   "source": [
    "Training the chatbot\n",
    "\n",
    "Maintenant, la dernière étape de la création d'un chatbot consiste à former le chatbot à l'aide des modules disponibles dans chatterbot. \n",
    "Former un chatbot à l'aide de chatterbot est aussi simple que de fournir une conversation dans la base de données du chatbot. Dès que le chatbot reçoit un ensemble de données, il produit les entrées essentielles dans le graphe de connaissances du chatbot pour représenter correctement les entrées et les sorties. Tout d'abord, importons le ListTrainer, créons son objet en passant l'objet Chatbot et appelons la méthode train() en passant une liste de phrases qui est dans notre cas le corpus qu'on a telechargé."
   ]
  },
  {
   "cell_type": "code",
   "execution_count": 16,
   "id": "3047bf79",
   "metadata": {
    "scrolled": true
   },
   "outputs": [
    {
     "name": "stdout",
     "output_type": "stream",
     "text": [
      "List Trainer: [####################] 100%\n",
      "List Trainer: [####################] 100%\n",
      "List Trainer: [####################] 100%\n",
      "List Trainer: [####################] 100%\n",
      "List Trainer: [####################] 100%\n",
      "List Trainer: [####################] 100%\n",
      "List Trainer: [####################] 100%\n",
      "List Trainer: [####################] 100%\n",
      "List Trainer: [####################] 100%\n",
      "List Trainer: [####################] 100%\n",
      "List Trainer: [####################] 100%\n",
      "List Trainer: [####################] 100%\n",
      "List Trainer: [####################] 100%\n",
      "List Trainer: [####################] 100%\n",
      "List Trainer: [####################] 100%\n",
      "List Trainer: [####################] 100%\n",
      "List Trainer: [####################] 100%\n",
      "List Trainer: [####################] 100%\n",
      "List Trainer: [####################] 100%\n"
     ]
    }
   ],
   "source": [
    "trainer = ListTrainer(chatbot)\n",
    "for f in os.listdir('./chatterbot_corpus/data/english'):\n",
    "    data = open('./chatterbot_corpus/data/english/'+f).readlines()\n",
    "    trainer.train(data)"
   ]
  },
  {
   "cell_type": "markdown",
   "id": "e3c5798b",
   "metadata": {},
   "source": [
    "Chatbot Testing\n",
    "\n",
    "La dernière étape de ce tutoriel consiste à tester les compétences conversationnelles du chatterbot. Pour tester ses réponses, nous appellerons la méthode get_responses() de l'instance Chatbot."
   ]
  },
  {
   "cell_type": "code",
   "execution_count": 18,
   "id": "6dd676ee",
   "metadata": {},
   "outputs": [
    {
     "name": "stdout",
     "output_type": "stream",
     "text": [
      "- Imagine yourself with no senses and no emotions--just pure logic and language.\n"
     ]
    }
   ],
   "source": [
    "response = chatbot.get_response(\"Hi\")\n",
    "print(response)"
   ]
  },
  {
   "cell_type": "code",
   "execution_count": null,
   "id": "422bae64",
   "metadata": {},
   "outputs": [
    {
     "name": "stdout",
     "output_type": "stream",
     "text": [
      "You: hi\n",
      "Bot :  - I am doing well.\n",
      "You: how are you\n",
      "Bot :  - If the implementation is easy to explain, it may be a good idea.\n"
     ]
    }
   ],
   "source": [
    "while True:\n",
    "    request = input(\"You: \")\n",
    "    if request==\"bye\" or request==\"Bye\":\n",
    "        break\n",
    "    if request != \"bye\" or request!= \"Bye\":\n",
    "        response = chatbot.get_response(request)\n",
    "        print(\"Bot : \", response)"
   ]
  },
  {
   "cell_type": "code",
   "execution_count": null,
   "id": "05fb6efa",
   "metadata": {},
   "outputs": [],
   "source": []
  }
 ],
 "metadata": {
  "kernelspec": {
   "display_name": "Python 3",
   "language": "python",
   "name": "python3"
  },
  "language_info": {
   "codemirror_mode": {
    "name": "ipython",
    "version": 3
   },
   "file_extension": ".py",
   "mimetype": "text/x-python",
   "name": "python",
   "nbconvert_exporter": "python",
   "pygments_lexer": "ipython3",
   "version": "3.8.8"
  }
 },
 "nbformat": 4,
 "nbformat_minor": 5
}
